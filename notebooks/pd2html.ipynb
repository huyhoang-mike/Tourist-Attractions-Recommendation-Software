{
 "cells": [
  {
   "cell_type": "code",
   "execution_count": 5,
   "metadata": {},
   "outputs": [
    {
     "data": {
      "text/plain": [
       "array(['Hotel Bar', 'Hotel', 'Bar', 'Wine Bar', 'Music Venue', 'Pub',\n",
       "       'Cocktail Bar', 'Sports Bar', 'Nightclub', 'Rock Club', 'Lounge',\n",
       "       'Church', 'Lake', 'Cemetery', 'Plaza', 'Park', 'Event Space',\n",
       "       'Temple', 'Mosque', 'Historic Site', 'Garden', 'Bridge', 'Museum',\n",
       "       'Zoo', 'Spiritual Center', 'Art Museum', 'Harbor / Marina',\n",
       "       'Racetrack', 'Art Gallery', 'Synagogue', 'Island',\n",
       "       'History Museum', 'Theater', 'Comedy Club', 'Concert Hall',\n",
       "       'Strip Club', 'Multiplex', 'Arts & Entertainment',\n",
       "       'General Entertainment', 'Soccer Field', 'Pool', 'Theme Park',\n",
       "       'Gym Pool', 'Movie Theater', 'Stadium', 'Gay Bar',\n",
       "       'Other Great Outdoors', 'Beer Garden', 'Neighborhood',\n",
       "       'Radio Station', 'Office', 'Performing Arts Venue',\n",
       "       'Indie Movie Theater', 'Public Art', 'Planetarium', 'Farm',\n",
       "       'Auditorium', 'Tennis', 'Athletics & Sports', 'Brewery',\n",
       "       'Scenic Lookout', 'River', 'Opera House', 'Italian Restaurant',\n",
       "       'Dance Studio', 'Soccer Stadium', 'Cafe', 'Tennis Court',\n",
       "       'Vineyard', 'Hostel', 'Golf Course', 'Playground', 'Internet Cafe',\n",
       "       'Track Stadium', 'Basketball Court', 'Other Nightlife',\n",
       "       'Miscellaneous Shop', 'Pizza Place', 'French Restaurant', 'Trail'],\n",
       "      dtype=object)"
      ]
     },
     "execution_count": 5,
     "metadata": {},
     "output_type": "execute_result"
    }
   ],
   "source": [
    "import pandas as pd \n",
    "df = pd.read_csv('df_django_final.csv')\n",
    "df.subCategory.unique()"
   ]
  },
  {
   "cell_type": "code",
   "execution_count": 1,
   "metadata": {},
   "outputs": [],
   "source": [
    "def remove_first_end_spaces(string):\n",
    "    return \"\".join(string.rstrip().lstrip())"
   ]
  },
  {
   "cell_type": "code",
   "execution_count": 3,
   "metadata": {},
   "outputs": [
    {
     "data": {
      "text/plain": [
       "'Zoo'"
      ]
     },
     "execution_count": 3,
     "metadata": {},
     "output_type": "execute_result"
    }
   ],
   "source": [
    "className = ' Zoo '\n",
    "# remove_first_end_spaces(className)\n",
    "\"\".join(className.rstrip().lstrip())"
   ]
  }
 ],
 "metadata": {
  "kernelspec": {
   "display_name": "Python 3",
   "language": "python",
   "name": "python3"
  },
  "language_info": {
   "codemirror_mode": {
    "name": "ipython",
    "version": 3
   },
   "file_extension": ".py",
   "mimetype": "text/x-python",
   "name": "python",
   "nbconvert_exporter": "python",
   "pygments_lexer": "ipython3",
   "version": "3.11.5"
  }
 },
 "nbformat": 4,
 "nbformat_minor": 2
}
